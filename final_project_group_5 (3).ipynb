{
  "nbformat": 4,
  "nbformat_minor": 0,
  "metadata": {
    "colab": {
      "provenance": []
    },
    "kernelspec": {
      "name": "python3",
      "display_name": "Python 3"
    },
    "language_info": {
      "name": "python"
    }
  },
  "cells": [
    {
      "cell_type": "markdown",
      "source": [
        "1. importing liblaries"
      ],
      "metadata": {
        "id": "ZKwRPwfq6KkQ"
      }
    },
    {
      "cell_type": "code",
      "execution_count": null,
      "metadata": {
        "id": "Yfh2eSS_u9TG"
      },
      "outputs": [],
      "source": [
        "import pandas as pd"
      ]
    },
    {
      "cell_type": "markdown",
      "source": [
        "The pandas library was imported for structured tabular data manipulation.\n",
        "pandas provides functions for reading CSVs, handling missing values and performing group-wise aggregations."
      ],
      "metadata": {
        "id": "H5foEodp_8v1"
      }
    },
    {
      "cell_type": "markdown",
      "source": [
        "2. Load datasets"
      ],
      "metadata": {
        "id": "heJs6piiAQ37"
      }
    },
    {
      "cell_type": "code",
      "source": [
        "dist = pd.read_csv('Uganda_Karamoja_District_Crop_Yield_Population.csv')\n",
        "sub = pd.read_csv('Uganda_Karamoja_Subcounty_Crop_Yield_Population.csv')"
      ],
      "metadata": {
        "id": "hYpbUgDLvOZG"
      },
      "execution_count": null,
      "outputs": []
    },
    {
      "cell_type": "markdown",
      "source": [
        "We loaded two CSV files into Python: one with district data and one with subcounty data.\n",
        "We kept them separate so that we don’t mix up the details. This way, we can study patterns at both the district level and the subcounty level without losing important information or making wrong conclusions."
      ],
      "metadata": {
        "id": "DD4QYycjATiZ"
      }
    },
    {
      "cell_type": "markdown",
      "source": [
        "3.  Missing values check"
      ],
      "metadata": {
        "id": "yYXZgmL3AxSq"
      }
    },
    {
      "cell_type": "code",
      "source": [
        "print(sub.isnull().sum())"
      ],
      "metadata": {
        "colab": {
          "base_uri": "https://localhost:8080/"
        },
        "id": "AQRu2U67vpCx",
        "outputId": "a0c36d1c-e865-4711-8e71-7a169b07ef8a"
      },
      "execution_count": null,
      "outputs": [
        {
          "output_type": "stream",
          "name": "stdout",
          "text": [
            "OBJECTID          0\n",
            "SUBCOUNTY_NAME    0\n",
            "DISTRICT_NAME     0\n",
            "POP               0\n",
            "Area              0\n",
            "Karamoja          0\n",
            "S_Yield_Ha        0\n",
            "M_Yield_Ha        0\n",
            "Crop_Area_Ha      0\n",
            "S_Area_Ha         0\n",
            "M_Area_Ha         0\n",
            "S_Prod_Tot        0\n",
            "M_Prod_Tot        0\n",
            "dtype: int64\n"
          ]
        }
      ]
    },
    {
      "cell_type": "markdown",
      "source": [
        "we checked each column to see how many values were missing.\n",
        "Knowing how many values are missing helps us decide what to do next. whether to remove those rows or fill in the gaps with replacement values."
      ],
      "metadata": {
        "id": "spt7qg74A1VQ"
      }
    },
    {
      "cell_type": "markdown",
      "source": [
        "4. Remove duplicate rows"
      ],
      "metadata": {
        "id": "vDty1UvZBLB7"
      }
    },
    {
      "cell_type": "code",
      "source": [
        "sub = sub.drop_duplicates()\n",
        "dist = dist.drop_duplicates()"
      ],
      "metadata": {
        "id": "NGOAp4UEwuFu"
      },
      "execution_count": null,
      "outputs": []
    },
    {
      "cell_type": "markdown",
      "source": [
        "We deleted any rows that were repeated in the datasets.\n",
        "Removing Repeated rows makes sure each record is only counted once."
      ],
      "metadata": {
        "id": "U0qZYiZdBOzY"
      }
    },
    {
      "cell_type": "markdown",
      "source": [
        "5. clean Subcounty_Name"
      ],
      "metadata": {
        "id": "owiNqiXgB5fr"
      }
    },
    {
      "cell_type": "code",
      "source": [
        "if \"SUBCOUNTY_NAME\" in sub.columns:\n",
        "    sub[\"SUBCOUNTY_NAME\"] = sub[\"SUBCOUNTY_NAME\"].astype(str).str.strip().str.replace(r\"\\s+\", \" \", regex=True)\n",
        "\n",
        "if \"DISTRICT_NAME\" in sub.columns:\n",
        "    sub[\"DISTRICT_NAME\"] = sub[\"DISTRICT_NAME\"].astype(str).str.strip().str.replace(r\"\\s+\", \" \", regex=True)\n",
        "\n",
        "if \"DISTRICT_NAME\" in dist.columns:\n",
        "    dist[\"DISTRICT_NAME\"] = dist[\"DISTRICT_NAME\"].astype(str).str.strip().str.replace(r\"\\s+\", \" \", regex=True)\n"
      ],
      "metadata": {
        "id": "3aENpxo5107Q"
      },
      "execution_count": null,
      "outputs": []
    },
    {
      "cell_type": "markdown",
      "source": [
        "We cleaned the text in the Subcounty_Name and District_Name columns by making sure the values are treated as text."
      ],
      "metadata": {
        "id": "DtSiTaBqCBxo"
      }
    },
    {
      "cell_type": "markdown",
      "source": [
        "6. Drop unneeded columns"
      ],
      "metadata": {
        "id": "DGD1kiISDQQ7"
      }
    },
    {
      "cell_type": "code",
      "source": [
        "sub = sub.drop(['OBJECTID', 'Area', 'Karamoja'], axis=1)\n",
        "dist = dist.drop(['OBJECTID', 'Area'], axis=1)"
      ],
      "metadata": {
        "id": "7JERX80_2DmY"
      },
      "execution_count": null,
      "outputs": []
    },
    {
      "cell_type": "markdown",
      "source": [
        "We removed the columns OBJECTID, Area, and Karamoja from the dataset.\n",
        "These columns don’t add useful information for our analysis."
      ],
      "metadata": {
        "id": "jbrnIxU7DTu5"
      }
    },
    {
      "cell_type": "markdown",
      "source": [
        "7. Preview last rows"
      ],
      "metadata": {
        "id": "KNk8FLvXDlNQ"
      }
    },
    {
      "cell_type": "code",
      "source": [
        "dist.tail(10)"
      ],
      "metadata": {
        "colab": {
          "base_uri": "https://localhost:8080/",
          "height": 289
        },
        "id": "ShLWhPP2wQug",
        "outputId": "3396a95a-b4cf-4572-9a83-f65ca7a87f33"
      },
      "execution_count": null,
      "outputs": [
        {
          "output_type": "execute_result",
          "data": {
            "text/plain": [
              "            NAME     POP  S_Yield_Ha  M_Yield_Ha  Crop_Area_Ha     S_Area_Ha  \\\n",
              "0           ABIM   90385         449        1040   5470.068394   3277.295971   \n",
              "1         AMUDAT  101790         205        1297   5765.443719   2973.423860   \n",
              "2        KAABONG  627057         279         945  28121.672530  20544.194960   \n",
              "3         KOTIDO  243157         331        1148  53032.649450  50247.443900   \n",
              "4         MOROTO  127811         128         355   5954.814048   4741.748776   \n",
              "5  NAKAPIRIPIRIT  146780         356        1264  26372.698490  19237.333210   \n",
              "6          NAPAK  167625         137         854  22944.296020  16142.015880   \n",
              "\n",
              "     M_Area_Ha  S_Prod_Tot  M_Prod_Tot  \n",
              "0  1848.621855     1471506     1922567  \n",
              "1  2733.661014      609552     3545558  \n",
              "2  7394.416334     5731830     6987723  \n",
              "3  1751.372284    16631904     2010575  \n",
              "4  1190.050606      606944      422468  \n",
              "5  6425.788414     6848491     8122197  \n",
              "6  6543.719066     2211456     5588336  "
            ],
            "text/html": [
              "\n",
              "  <div id=\"df-10ecba29-c5e4-494b-96cb-d3fb6d5b8d87\" class=\"colab-df-container\">\n",
              "    <div>\n",
              "<style scoped>\n",
              "    .dataframe tbody tr th:only-of-type {\n",
              "        vertical-align: middle;\n",
              "    }\n",
              "\n",
              "    .dataframe tbody tr th {\n",
              "        vertical-align: top;\n",
              "    }\n",
              "\n",
              "    .dataframe thead th {\n",
              "        text-align: right;\n",
              "    }\n",
              "</style>\n",
              "<table border=\"1\" class=\"dataframe\">\n",
              "  <thead>\n",
              "    <tr style=\"text-align: right;\">\n",
              "      <th></th>\n",
              "      <th>NAME</th>\n",
              "      <th>POP</th>\n",
              "      <th>S_Yield_Ha</th>\n",
              "      <th>M_Yield_Ha</th>\n",
              "      <th>Crop_Area_Ha</th>\n",
              "      <th>S_Area_Ha</th>\n",
              "      <th>M_Area_Ha</th>\n",
              "      <th>S_Prod_Tot</th>\n",
              "      <th>M_Prod_Tot</th>\n",
              "    </tr>\n",
              "  </thead>\n",
              "  <tbody>\n",
              "    <tr>\n",
              "      <th>0</th>\n",
              "      <td>ABIM</td>\n",
              "      <td>90385</td>\n",
              "      <td>449</td>\n",
              "      <td>1040</td>\n",
              "      <td>5470.068394</td>\n",
              "      <td>3277.295971</td>\n",
              "      <td>1848.621855</td>\n",
              "      <td>1471506</td>\n",
              "      <td>1922567</td>\n",
              "    </tr>\n",
              "    <tr>\n",
              "      <th>1</th>\n",
              "      <td>AMUDAT</td>\n",
              "      <td>101790</td>\n",
              "      <td>205</td>\n",
              "      <td>1297</td>\n",
              "      <td>5765.443719</td>\n",
              "      <td>2973.423860</td>\n",
              "      <td>2733.661014</td>\n",
              "      <td>609552</td>\n",
              "      <td>3545558</td>\n",
              "    </tr>\n",
              "    <tr>\n",
              "      <th>2</th>\n",
              "      <td>KAABONG</td>\n",
              "      <td>627057</td>\n",
              "      <td>279</td>\n",
              "      <td>945</td>\n",
              "      <td>28121.672530</td>\n",
              "      <td>20544.194960</td>\n",
              "      <td>7394.416334</td>\n",
              "      <td>5731830</td>\n",
              "      <td>6987723</td>\n",
              "    </tr>\n",
              "    <tr>\n",
              "      <th>3</th>\n",
              "      <td>KOTIDO</td>\n",
              "      <td>243157</td>\n",
              "      <td>331</td>\n",
              "      <td>1148</td>\n",
              "      <td>53032.649450</td>\n",
              "      <td>50247.443900</td>\n",
              "      <td>1751.372284</td>\n",
              "      <td>16631904</td>\n",
              "      <td>2010575</td>\n",
              "    </tr>\n",
              "    <tr>\n",
              "      <th>4</th>\n",
              "      <td>MOROTO</td>\n",
              "      <td>127811</td>\n",
              "      <td>128</td>\n",
              "      <td>355</td>\n",
              "      <td>5954.814048</td>\n",
              "      <td>4741.748776</td>\n",
              "      <td>1190.050606</td>\n",
              "      <td>606944</td>\n",
              "      <td>422468</td>\n",
              "    </tr>\n",
              "    <tr>\n",
              "      <th>5</th>\n",
              "      <td>NAKAPIRIPIRIT</td>\n",
              "      <td>146780</td>\n",
              "      <td>356</td>\n",
              "      <td>1264</td>\n",
              "      <td>26372.698490</td>\n",
              "      <td>19237.333210</td>\n",
              "      <td>6425.788414</td>\n",
              "      <td>6848491</td>\n",
              "      <td>8122197</td>\n",
              "    </tr>\n",
              "    <tr>\n",
              "      <th>6</th>\n",
              "      <td>NAPAK</td>\n",
              "      <td>167625</td>\n",
              "      <td>137</td>\n",
              "      <td>854</td>\n",
              "      <td>22944.296020</td>\n",
              "      <td>16142.015880</td>\n",
              "      <td>6543.719066</td>\n",
              "      <td>2211456</td>\n",
              "      <td>5588336</td>\n",
              "    </tr>\n",
              "  </tbody>\n",
              "</table>\n",
              "</div>\n",
              "    <div class=\"colab-df-buttons\">\n",
              "\n",
              "  <div class=\"colab-df-container\">\n",
              "    <button class=\"colab-df-convert\" onclick=\"convertToInteractive('df-10ecba29-c5e4-494b-96cb-d3fb6d5b8d87')\"\n",
              "            title=\"Convert this dataframe to an interactive table.\"\n",
              "            style=\"display:none;\">\n",
              "\n",
              "  <svg xmlns=\"http://www.w3.org/2000/svg\" height=\"24px\" viewBox=\"0 -960 960 960\">\n",
              "    <path d=\"M120-120v-720h720v720H120Zm60-500h600v-160H180v160Zm220 220h160v-160H400v160Zm0 220h160v-160H400v160ZM180-400h160v-160H180v160Zm440 0h160v-160H620v160ZM180-180h160v-160H180v160Zm440 0h160v-160H620v160Z\"/>\n",
              "  </svg>\n",
              "    </button>\n",
              "\n",
              "  <style>\n",
              "    .colab-df-container {\n",
              "      display:flex;\n",
              "      gap: 12px;\n",
              "    }\n",
              "\n",
              "    .colab-df-convert {\n",
              "      background-color: #E8F0FE;\n",
              "      border: none;\n",
              "      border-radius: 50%;\n",
              "      cursor: pointer;\n",
              "      display: none;\n",
              "      fill: #1967D2;\n",
              "      height: 32px;\n",
              "      padding: 0 0 0 0;\n",
              "      width: 32px;\n",
              "    }\n",
              "\n",
              "    .colab-df-convert:hover {\n",
              "      background-color: #E2EBFA;\n",
              "      box-shadow: 0px 1px 2px rgba(60, 64, 67, 0.3), 0px 1px 3px 1px rgba(60, 64, 67, 0.15);\n",
              "      fill: #174EA6;\n",
              "    }\n",
              "\n",
              "    .colab-df-buttons div {\n",
              "      margin-bottom: 4px;\n",
              "    }\n",
              "\n",
              "    [theme=dark] .colab-df-convert {\n",
              "      background-color: #3B4455;\n",
              "      fill: #D2E3FC;\n",
              "    }\n",
              "\n",
              "    [theme=dark] .colab-df-convert:hover {\n",
              "      background-color: #434B5C;\n",
              "      box-shadow: 0px 1px 3px 1px rgba(0, 0, 0, 0.15);\n",
              "      filter: drop-shadow(0px 1px 2px rgba(0, 0, 0, 0.3));\n",
              "      fill: #FFFFFF;\n",
              "    }\n",
              "  </style>\n",
              "\n",
              "    <script>\n",
              "      const buttonEl =\n",
              "        document.querySelector('#df-10ecba29-c5e4-494b-96cb-d3fb6d5b8d87 button.colab-df-convert');\n",
              "      buttonEl.style.display =\n",
              "        google.colab.kernel.accessAllowed ? 'block' : 'none';\n",
              "\n",
              "      async function convertToInteractive(key) {\n",
              "        const element = document.querySelector('#df-10ecba29-c5e4-494b-96cb-d3fb6d5b8d87');\n",
              "        const dataTable =\n",
              "          await google.colab.kernel.invokeFunction('convertToInteractive',\n",
              "                                                    [key], {});\n",
              "        if (!dataTable) return;\n",
              "\n",
              "        const docLinkHtml = 'Like what you see? Visit the ' +\n",
              "          '<a target=\"_blank\" href=https://colab.research.google.com/notebooks/data_table.ipynb>data table notebook</a>'\n",
              "          + ' to learn more about interactive tables.';\n",
              "        element.innerHTML = '';\n",
              "        dataTable['output_type'] = 'display_data';\n",
              "        await google.colab.output.renderOutput(dataTable, element);\n",
              "        const docLink = document.createElement('div');\n",
              "        docLink.innerHTML = docLinkHtml;\n",
              "        element.appendChild(docLink);\n",
              "      }\n",
              "    </script>\n",
              "  </div>\n",
              "\n",
              "\n",
              "    <div id=\"df-8a1a65fd-960c-4b76-b941-9aa5478b6806\">\n",
              "      <button class=\"colab-df-quickchart\" onclick=\"quickchart('df-8a1a65fd-960c-4b76-b941-9aa5478b6806')\"\n",
              "                title=\"Suggest charts\"\n",
              "                style=\"display:none;\">\n",
              "\n",
              "<svg xmlns=\"http://www.w3.org/2000/svg\" height=\"24px\"viewBox=\"0 0 24 24\"\n",
              "     width=\"24px\">\n",
              "    <g>\n",
              "        <path d=\"M19 3H5c-1.1 0-2 .9-2 2v14c0 1.1.9 2 2 2h14c1.1 0 2-.9 2-2V5c0-1.1-.9-2-2-2zM9 17H7v-7h2v7zm4 0h-2V7h2v10zm4 0h-2v-4h2v4z\"/>\n",
              "    </g>\n",
              "</svg>\n",
              "      </button>\n",
              "\n",
              "<style>\n",
              "  .colab-df-quickchart {\n",
              "      --bg-color: #E8F0FE;\n",
              "      --fill-color: #1967D2;\n",
              "      --hover-bg-color: #E2EBFA;\n",
              "      --hover-fill-color: #174EA6;\n",
              "      --disabled-fill-color: #AAA;\n",
              "      --disabled-bg-color: #DDD;\n",
              "  }\n",
              "\n",
              "  [theme=dark] .colab-df-quickchart {\n",
              "      --bg-color: #3B4455;\n",
              "      --fill-color: #D2E3FC;\n",
              "      --hover-bg-color: #434B5C;\n",
              "      --hover-fill-color: #FFFFFF;\n",
              "      --disabled-bg-color: #3B4455;\n",
              "      --disabled-fill-color: #666;\n",
              "  }\n",
              "\n",
              "  .colab-df-quickchart {\n",
              "    background-color: var(--bg-color);\n",
              "    border: none;\n",
              "    border-radius: 50%;\n",
              "    cursor: pointer;\n",
              "    display: none;\n",
              "    fill: var(--fill-color);\n",
              "    height: 32px;\n",
              "    padding: 0;\n",
              "    width: 32px;\n",
              "  }\n",
              "\n",
              "  .colab-df-quickchart:hover {\n",
              "    background-color: var(--hover-bg-color);\n",
              "    box-shadow: 0 1px 2px rgba(60, 64, 67, 0.3), 0 1px 3px 1px rgba(60, 64, 67, 0.15);\n",
              "    fill: var(--button-hover-fill-color);\n",
              "  }\n",
              "\n",
              "  .colab-df-quickchart-complete:disabled,\n",
              "  .colab-df-quickchart-complete:disabled:hover {\n",
              "    background-color: var(--disabled-bg-color);\n",
              "    fill: var(--disabled-fill-color);\n",
              "    box-shadow: none;\n",
              "  }\n",
              "\n",
              "  .colab-df-spinner {\n",
              "    border: 2px solid var(--fill-color);\n",
              "    border-color: transparent;\n",
              "    border-bottom-color: var(--fill-color);\n",
              "    animation:\n",
              "      spin 1s steps(1) infinite;\n",
              "  }\n",
              "\n",
              "  @keyframes spin {\n",
              "    0% {\n",
              "      border-color: transparent;\n",
              "      border-bottom-color: var(--fill-color);\n",
              "      border-left-color: var(--fill-color);\n",
              "    }\n",
              "    20% {\n",
              "      border-color: transparent;\n",
              "      border-left-color: var(--fill-color);\n",
              "      border-top-color: var(--fill-color);\n",
              "    }\n",
              "    30% {\n",
              "      border-color: transparent;\n",
              "      border-left-color: var(--fill-color);\n",
              "      border-top-color: var(--fill-color);\n",
              "      border-right-color: var(--fill-color);\n",
              "    }\n",
              "    40% {\n",
              "      border-color: transparent;\n",
              "      border-right-color: var(--fill-color);\n",
              "      border-top-color: var(--fill-color);\n",
              "    }\n",
              "    60% {\n",
              "      border-color: transparent;\n",
              "      border-right-color: var(--fill-color);\n",
              "    }\n",
              "    80% {\n",
              "      border-color: transparent;\n",
              "      border-right-color: var(--fill-color);\n",
              "      border-bottom-color: var(--fill-color);\n",
              "    }\n",
              "    90% {\n",
              "      border-color: transparent;\n",
              "      border-bottom-color: var(--fill-color);\n",
              "    }\n",
              "  }\n",
              "</style>\n",
              "\n",
              "      <script>\n",
              "        async function quickchart(key) {\n",
              "          const quickchartButtonEl =\n",
              "            document.querySelector('#' + key + ' button');\n",
              "          quickchartButtonEl.disabled = true;  // To prevent multiple clicks.\n",
              "          quickchartButtonEl.classList.add('colab-df-spinner');\n",
              "          try {\n",
              "            const charts = await google.colab.kernel.invokeFunction(\n",
              "                'suggestCharts', [key], {});\n",
              "          } catch (error) {\n",
              "            console.error('Error during call to suggestCharts:', error);\n",
              "          }\n",
              "          quickchartButtonEl.classList.remove('colab-df-spinner');\n",
              "          quickchartButtonEl.classList.add('colab-df-quickchart-complete');\n",
              "        }\n",
              "        (() => {\n",
              "          let quickchartButtonEl =\n",
              "            document.querySelector('#df-8a1a65fd-960c-4b76-b941-9aa5478b6806 button');\n",
              "          quickchartButtonEl.style.display =\n",
              "            google.colab.kernel.accessAllowed ? 'block' : 'none';\n",
              "        })();\n",
              "      </script>\n",
              "    </div>\n",
              "\n",
              "    </div>\n",
              "  </div>\n"
            ],
            "application/vnd.google.colaboratory.intrinsic+json": {
              "type": "dataframe",
              "summary": "{\n  \"name\": \"dist\",\n  \"rows\": 7,\n  \"fields\": [\n    {\n      \"column\": \"NAME\",\n      \"properties\": {\n        \"dtype\": \"string\",\n        \"num_unique_values\": 7,\n        \"samples\": [\n          \"ABIM\",\n          \"AMUDAT\",\n          \"NAKAPIRIPIRIT\"\n        ],\n        \"semantic_type\": \"\",\n        \"description\": \"\"\n      }\n    },\n    {\n      \"column\": \"POP\",\n      \"properties\": {\n        \"dtype\": \"number\",\n        \"std\": 188604,\n        \"min\": 90385,\n        \"max\": 627057,\n        \"num_unique_values\": 7,\n        \"samples\": [\n          90385,\n          101790,\n          146780\n        ],\n        \"semantic_type\": \"\",\n        \"description\": \"\"\n      }\n    },\n    {\n      \"column\": \"S_Yield_Ha\",\n      \"properties\": {\n        \"dtype\": \"number\",\n        \"std\": 119,\n        \"min\": 128,\n        \"max\": 449,\n        \"num_unique_values\": 7,\n        \"samples\": [\n          449,\n          205,\n          356\n        ],\n        \"semantic_type\": \"\",\n        \"description\": \"\"\n      }\n    },\n    {\n      \"column\": \"M_Yield_Ha\",\n      \"properties\": {\n        \"dtype\": \"number\",\n        \"std\": 321,\n        \"min\": 355,\n        \"max\": 1297,\n        \"num_unique_values\": 7,\n        \"samples\": [\n          1040,\n          1297,\n          1264\n        ],\n        \"semantic_type\": \"\",\n        \"description\": \"\"\n      }\n    },\n    {\n      \"column\": \"Crop_Area_Ha\",\n      \"properties\": {\n        \"dtype\": \"number\",\n        \"std\": 17363.854165436525,\n        \"min\": 5470.068394,\n        \"max\": 53032.64945,\n        \"num_unique_values\": 7,\n        \"samples\": [\n          5470.068394,\n          5765.443719,\n          26372.69849\n        ],\n        \"semantic_type\": \"\",\n        \"description\": \"\"\n      }\n    },\n    {\n      \"column\": \"S_Area_Ha\",\n      \"properties\": {\n        \"dtype\": \"number\",\n        \"std\": 16625.963460313287,\n        \"min\": 2973.42386,\n        \"max\": 50247.4439,\n        \"num_unique_values\": 7,\n        \"samples\": [\n          3277.295971,\n          2973.42386,\n          19237.33321\n        ],\n        \"semantic_type\": \"\",\n        \"description\": \"\"\n      }\n    },\n    {\n      \"column\": \"M_Area_Ha\",\n      \"properties\": {\n        \"dtype\": \"number\",\n        \"std\": 2678.911440732962,\n        \"min\": 1190.050606,\n        \"max\": 7394.416334,\n        \"num_unique_values\": 7,\n        \"samples\": [\n          1848.621855,\n          2733.661014,\n          6425.788414\n        ],\n        \"semantic_type\": \"\",\n        \"description\": \"\"\n      }\n    },\n    {\n      \"column\": \"S_Prod_Tot\",\n      \"properties\": {\n        \"dtype\": \"number\",\n        \"std\": 5743723,\n        \"min\": 606944,\n        \"max\": 16631904,\n        \"num_unique_values\": 7,\n        \"samples\": [\n          1471506,\n          609552,\n          6848491\n        ],\n        \"semantic_type\": \"\",\n        \"description\": \"\"\n      }\n    },\n    {\n      \"column\": \"M_Prod_Tot\",\n      \"properties\": {\n        \"dtype\": \"number\",\n        \"std\": 2877188,\n        \"min\": 422468,\n        \"max\": 8122197,\n        \"num_unique_values\": 7,\n        \"samples\": [\n          1922567,\n          3545558,\n          8122197\n        ],\n        \"semantic_type\": \"\",\n        \"description\": \"\"\n      }\n    }\n  ]\n}"
            }
          },
          "metadata": {},
          "execution_count": 22
        }
      ]
    },
    {
      "cell_type": "markdown",
      "source": [
        "Displayed last 10 rows of district dataset."
      ],
      "metadata": {
        "id": "AV2XTNAUFt7M"
      }
    },
    {
      "cell_type": "code",
      "source": [
        "sub.tail(10)"
      ],
      "metadata": {
        "colab": {
          "base_uri": "https://localhost:8080/",
          "height": 400
        },
        "id": "quFReyShFv__",
        "outputId": "24276b40-7a26-4683-e868-1255f9af3dfb"
      },
      "execution_count": null,
      "outputs": [
        {
          "output_type": "execute_result",
          "data": {
            "text/plain": [
              "        SUBCOUNTY_NAME  DISTRICT_NAME    POP  S_Yield_Ha   M_Yield_Ha  \\\n",
              "42              LOPEEI          NAPAK  18815  108.156411  1053.257168   \n",
              "43         LORENGECORA          NAPAK   2503  184.081197   841.815010   \n",
              "44              LOTOME          NAPAK  17834  128.555598   507.907068   \n",
              "45              MATANY          NAPAK  29495  130.007687   497.353282   \n",
              "46  NAPAK TOWN COUNCIL          NAPAK   8010  175.828068   725.813930   \n",
              "47           NGOLERIET          NAPAK  20790  134.084089   528.699822   \n",
              "48             NYAKWAE           ABIM  16470  329.759030   779.225031   \n",
              "49              LOKOPO          NAPAK  23200  120.862232   748.829862   \n",
              "50                RUPA         MOROTO  41493  114.270921   699.334309   \n",
              "51             MORUITA  NAKAPIRIPIRIT  16588  430.557375  1248.955812   \n",
              "\n",
              "    Crop_Area_Ha    S_Area_Ha   M_Area_Ha    S_Prod_Tot    M_Prod_Tot  \n",
              "42   3120.318045  2121.747320  955.264617  229480.57590  1.006139e+06  \n",
              "43   1031.196285   672.121886  358.550335  123725.00130  3.018331e+05  \n",
              "44   1849.966589  1770.358693   78.035892  227589.51980  3.963498e+04  \n",
              "45   2990.847377  2664.796115  288.329571  346443.97860  1.434017e+05  \n",
              "46    792.249273   386.158033  401.173442   67897.42082  2.911773e+05  \n",
              "47   1215.227445  1145.339875   68.124005  153571.85410  3.601715e+04  \n",
              "48    792.898789   342.816838  331.111340  113046.94800  2.580102e+05  \n",
              "49   6471.047334  5830.549392  553.543123  704693.21440  4.145096e+05  \n",
              "50   2217.290717  1989.119508  222.838881  227298.51840  1.558389e+05  \n",
              "51   1161.390229   185.283445  959.671162   79775.15368  1.198587e+06  "
            ],
            "text/html": [
              "\n",
              "  <div id=\"df-a29aae40-2ead-4b03-9f6e-ae24f1d95338\" class=\"colab-df-container\">\n",
              "    <div>\n",
              "<style scoped>\n",
              "    .dataframe tbody tr th:only-of-type {\n",
              "        vertical-align: middle;\n",
              "    }\n",
              "\n",
              "    .dataframe tbody tr th {\n",
              "        vertical-align: top;\n",
              "    }\n",
              "\n",
              "    .dataframe thead th {\n",
              "        text-align: right;\n",
              "    }\n",
              "</style>\n",
              "<table border=\"1\" class=\"dataframe\">\n",
              "  <thead>\n",
              "    <tr style=\"text-align: right;\">\n",
              "      <th></th>\n",
              "      <th>SUBCOUNTY_NAME</th>\n",
              "      <th>DISTRICT_NAME</th>\n",
              "      <th>POP</th>\n",
              "      <th>S_Yield_Ha</th>\n",
              "      <th>M_Yield_Ha</th>\n",
              "      <th>Crop_Area_Ha</th>\n",
              "      <th>S_Area_Ha</th>\n",
              "      <th>M_Area_Ha</th>\n",
              "      <th>S_Prod_Tot</th>\n",
              "      <th>M_Prod_Tot</th>\n",
              "    </tr>\n",
              "  </thead>\n",
              "  <tbody>\n",
              "    <tr>\n",
              "      <th>42</th>\n",
              "      <td>LOPEEI</td>\n",
              "      <td>NAPAK</td>\n",
              "      <td>18815</td>\n",
              "      <td>108.156411</td>\n",
              "      <td>1053.257168</td>\n",
              "      <td>3120.318045</td>\n",
              "      <td>2121.747320</td>\n",
              "      <td>955.264617</td>\n",
              "      <td>229480.57590</td>\n",
              "      <td>1.006139e+06</td>\n",
              "    </tr>\n",
              "    <tr>\n",
              "      <th>43</th>\n",
              "      <td>LORENGECORA</td>\n",
              "      <td>NAPAK</td>\n",
              "      <td>2503</td>\n",
              "      <td>184.081197</td>\n",
              "      <td>841.815010</td>\n",
              "      <td>1031.196285</td>\n",
              "      <td>672.121886</td>\n",
              "      <td>358.550335</td>\n",
              "      <td>123725.00130</td>\n",
              "      <td>3.018331e+05</td>\n",
              "    </tr>\n",
              "    <tr>\n",
              "      <th>44</th>\n",
              "      <td>LOTOME</td>\n",
              "      <td>NAPAK</td>\n",
              "      <td>17834</td>\n",
              "      <td>128.555598</td>\n",
              "      <td>507.907068</td>\n",
              "      <td>1849.966589</td>\n",
              "      <td>1770.358693</td>\n",
              "      <td>78.035892</td>\n",
              "      <td>227589.51980</td>\n",
              "      <td>3.963498e+04</td>\n",
              "    </tr>\n",
              "    <tr>\n",
              "      <th>45</th>\n",
              "      <td>MATANY</td>\n",
              "      <td>NAPAK</td>\n",
              "      <td>29495</td>\n",
              "      <td>130.007687</td>\n",
              "      <td>497.353282</td>\n",
              "      <td>2990.847377</td>\n",
              "      <td>2664.796115</td>\n",
              "      <td>288.329571</td>\n",
              "      <td>346443.97860</td>\n",
              "      <td>1.434017e+05</td>\n",
              "    </tr>\n",
              "    <tr>\n",
              "      <th>46</th>\n",
              "      <td>NAPAK TOWN COUNCIL</td>\n",
              "      <td>NAPAK</td>\n",
              "      <td>8010</td>\n",
              "      <td>175.828068</td>\n",
              "      <td>725.813930</td>\n",
              "      <td>792.249273</td>\n",
              "      <td>386.158033</td>\n",
              "      <td>401.173442</td>\n",
              "      <td>67897.42082</td>\n",
              "      <td>2.911773e+05</td>\n",
              "    </tr>\n",
              "    <tr>\n",
              "      <th>47</th>\n",
              "      <td>NGOLERIET</td>\n",
              "      <td>NAPAK</td>\n",
              "      <td>20790</td>\n",
              "      <td>134.084089</td>\n",
              "      <td>528.699822</td>\n",
              "      <td>1215.227445</td>\n",
              "      <td>1145.339875</td>\n",
              "      <td>68.124005</td>\n",
              "      <td>153571.85410</td>\n",
              "      <td>3.601715e+04</td>\n",
              "    </tr>\n",
              "    <tr>\n",
              "      <th>48</th>\n",
              "      <td>NYAKWAE</td>\n",
              "      <td>ABIM</td>\n",
              "      <td>16470</td>\n",
              "      <td>329.759030</td>\n",
              "      <td>779.225031</td>\n",
              "      <td>792.898789</td>\n",
              "      <td>342.816838</td>\n",
              "      <td>331.111340</td>\n",
              "      <td>113046.94800</td>\n",
              "      <td>2.580102e+05</td>\n",
              "    </tr>\n",
              "    <tr>\n",
              "      <th>49</th>\n",
              "      <td>LOKOPO</td>\n",
              "      <td>NAPAK</td>\n",
              "      <td>23200</td>\n",
              "      <td>120.862232</td>\n",
              "      <td>748.829862</td>\n",
              "      <td>6471.047334</td>\n",
              "      <td>5830.549392</td>\n",
              "      <td>553.543123</td>\n",
              "      <td>704693.21440</td>\n",
              "      <td>4.145096e+05</td>\n",
              "    </tr>\n",
              "    <tr>\n",
              "      <th>50</th>\n",
              "      <td>RUPA</td>\n",
              "      <td>MOROTO</td>\n",
              "      <td>41493</td>\n",
              "      <td>114.270921</td>\n",
              "      <td>699.334309</td>\n",
              "      <td>2217.290717</td>\n",
              "      <td>1989.119508</td>\n",
              "      <td>222.838881</td>\n",
              "      <td>227298.51840</td>\n",
              "      <td>1.558389e+05</td>\n",
              "    </tr>\n",
              "    <tr>\n",
              "      <th>51</th>\n",
              "      <td>MORUITA</td>\n",
              "      <td>NAKAPIRIPIRIT</td>\n",
              "      <td>16588</td>\n",
              "      <td>430.557375</td>\n",
              "      <td>1248.955812</td>\n",
              "      <td>1161.390229</td>\n",
              "      <td>185.283445</td>\n",
              "      <td>959.671162</td>\n",
              "      <td>79775.15368</td>\n",
              "      <td>1.198587e+06</td>\n",
              "    </tr>\n",
              "  </tbody>\n",
              "</table>\n",
              "</div>\n",
              "    <div class=\"colab-df-buttons\">\n",
              "\n",
              "  <div class=\"colab-df-container\">\n",
              "    <button class=\"colab-df-convert\" onclick=\"convertToInteractive('df-a29aae40-2ead-4b03-9f6e-ae24f1d95338')\"\n",
              "            title=\"Convert this dataframe to an interactive table.\"\n",
              "            style=\"display:none;\">\n",
              "\n",
              "  <svg xmlns=\"http://www.w3.org/2000/svg\" height=\"24px\" viewBox=\"0 -960 960 960\">\n",
              "    <path d=\"M120-120v-720h720v720H120Zm60-500h600v-160H180v160Zm220 220h160v-160H400v160Zm0 220h160v-160H400v160ZM180-400h160v-160H180v160Zm440 0h160v-160H620v160ZM180-180h160v-160H180v160Zm440 0h160v-160H620v160Z\"/>\n",
              "  </svg>\n",
              "    </button>\n",
              "\n",
              "  <style>\n",
              "    .colab-df-container {\n",
              "      display:flex;\n",
              "      gap: 12px;\n",
              "    }\n",
              "\n",
              "    .colab-df-convert {\n",
              "      background-color: #E8F0FE;\n",
              "      border: none;\n",
              "      border-radius: 50%;\n",
              "      cursor: pointer;\n",
              "      display: none;\n",
              "      fill: #1967D2;\n",
              "      height: 32px;\n",
              "      padding: 0 0 0 0;\n",
              "      width: 32px;\n",
              "    }\n",
              "\n",
              "    .colab-df-convert:hover {\n",
              "      background-color: #E2EBFA;\n",
              "      box-shadow: 0px 1px 2px rgba(60, 64, 67, 0.3), 0px 1px 3px 1px rgba(60, 64, 67, 0.15);\n",
              "      fill: #174EA6;\n",
              "    }\n",
              "\n",
              "    .colab-df-buttons div {\n",
              "      margin-bottom: 4px;\n",
              "    }\n",
              "\n",
              "    [theme=dark] .colab-df-convert {\n",
              "      background-color: #3B4455;\n",
              "      fill: #D2E3FC;\n",
              "    }\n",
              "\n",
              "    [theme=dark] .colab-df-convert:hover {\n",
              "      background-color: #434B5C;\n",
              "      box-shadow: 0px 1px 3px 1px rgba(0, 0, 0, 0.15);\n",
              "      filter: drop-shadow(0px 1px 2px rgba(0, 0, 0, 0.3));\n",
              "      fill: #FFFFFF;\n",
              "    }\n",
              "  </style>\n",
              "\n",
              "    <script>\n",
              "      const buttonEl =\n",
              "        document.querySelector('#df-a29aae40-2ead-4b03-9f6e-ae24f1d95338 button.colab-df-convert');\n",
              "      buttonEl.style.display =\n",
              "        google.colab.kernel.accessAllowed ? 'block' : 'none';\n",
              "\n",
              "      async function convertToInteractive(key) {\n",
              "        const element = document.querySelector('#df-a29aae40-2ead-4b03-9f6e-ae24f1d95338');\n",
              "        const dataTable =\n",
              "          await google.colab.kernel.invokeFunction('convertToInteractive',\n",
              "                                                    [key], {});\n",
              "        if (!dataTable) return;\n",
              "\n",
              "        const docLinkHtml = 'Like what you see? Visit the ' +\n",
              "          '<a target=\"_blank\" href=https://colab.research.google.com/notebooks/data_table.ipynb>data table notebook</a>'\n",
              "          + ' to learn more about interactive tables.';\n",
              "        element.innerHTML = '';\n",
              "        dataTable['output_type'] = 'display_data';\n",
              "        await google.colab.output.renderOutput(dataTable, element);\n",
              "        const docLink = document.createElement('div');\n",
              "        docLink.innerHTML = docLinkHtml;\n",
              "        element.appendChild(docLink);\n",
              "      }\n",
              "    </script>\n",
              "  </div>\n",
              "\n",
              "\n",
              "    <div id=\"df-1aa39825-5eaa-4ca2-a7fa-9f6e3a104b07\">\n",
              "      <button class=\"colab-df-quickchart\" onclick=\"quickchart('df-1aa39825-5eaa-4ca2-a7fa-9f6e3a104b07')\"\n",
              "                title=\"Suggest charts\"\n",
              "                style=\"display:none;\">\n",
              "\n",
              "<svg xmlns=\"http://www.w3.org/2000/svg\" height=\"24px\"viewBox=\"0 0 24 24\"\n",
              "     width=\"24px\">\n",
              "    <g>\n",
              "        <path d=\"M19 3H5c-1.1 0-2 .9-2 2v14c0 1.1.9 2 2 2h14c1.1 0 2-.9 2-2V5c0-1.1-.9-2-2-2zM9 17H7v-7h2v7zm4 0h-2V7h2v10zm4 0h-2v-4h2v4z\"/>\n",
              "    </g>\n",
              "</svg>\n",
              "      </button>\n",
              "\n",
              "<style>\n",
              "  .colab-df-quickchart {\n",
              "      --bg-color: #E8F0FE;\n",
              "      --fill-color: #1967D2;\n",
              "      --hover-bg-color: #E2EBFA;\n",
              "      --hover-fill-color: #174EA6;\n",
              "      --disabled-fill-color: #AAA;\n",
              "      --disabled-bg-color: #DDD;\n",
              "  }\n",
              "\n",
              "  [theme=dark] .colab-df-quickchart {\n",
              "      --bg-color: #3B4455;\n",
              "      --fill-color: #D2E3FC;\n",
              "      --hover-bg-color: #434B5C;\n",
              "      --hover-fill-color: #FFFFFF;\n",
              "      --disabled-bg-color: #3B4455;\n",
              "      --disabled-fill-color: #666;\n",
              "  }\n",
              "\n",
              "  .colab-df-quickchart {\n",
              "    background-color: var(--bg-color);\n",
              "    border: none;\n",
              "    border-radius: 50%;\n",
              "    cursor: pointer;\n",
              "    display: none;\n",
              "    fill: var(--fill-color);\n",
              "    height: 32px;\n",
              "    padding: 0;\n",
              "    width: 32px;\n",
              "  }\n",
              "\n",
              "  .colab-df-quickchart:hover {\n",
              "    background-color: var(--hover-bg-color);\n",
              "    box-shadow: 0 1px 2px rgba(60, 64, 67, 0.3), 0 1px 3px 1px rgba(60, 64, 67, 0.15);\n",
              "    fill: var(--button-hover-fill-color);\n",
              "  }\n",
              "\n",
              "  .colab-df-quickchart-complete:disabled,\n",
              "  .colab-df-quickchart-complete:disabled:hover {\n",
              "    background-color: var(--disabled-bg-color);\n",
              "    fill: var(--disabled-fill-color);\n",
              "    box-shadow: none;\n",
              "  }\n",
              "\n",
              "  .colab-df-spinner {\n",
              "    border: 2px solid var(--fill-color);\n",
              "    border-color: transparent;\n",
              "    border-bottom-color: var(--fill-color);\n",
              "    animation:\n",
              "      spin 1s steps(1) infinite;\n",
              "  }\n",
              "\n",
              "  @keyframes spin {\n",
              "    0% {\n",
              "      border-color: transparent;\n",
              "      border-bottom-color: var(--fill-color);\n",
              "      border-left-color: var(--fill-color);\n",
              "    }\n",
              "    20% {\n",
              "      border-color: transparent;\n",
              "      border-left-color: var(--fill-color);\n",
              "      border-top-color: var(--fill-color);\n",
              "    }\n",
              "    30% {\n",
              "      border-color: transparent;\n",
              "      border-left-color: var(--fill-color);\n",
              "      border-top-color: var(--fill-color);\n",
              "      border-right-color: var(--fill-color);\n",
              "    }\n",
              "    40% {\n",
              "      border-color: transparent;\n",
              "      border-right-color: var(--fill-color);\n",
              "      border-top-color: var(--fill-color);\n",
              "    }\n",
              "    60% {\n",
              "      border-color: transparent;\n",
              "      border-right-color: var(--fill-color);\n",
              "    }\n",
              "    80% {\n",
              "      border-color: transparent;\n",
              "      border-right-color: var(--fill-color);\n",
              "      border-bottom-color: var(--fill-color);\n",
              "    }\n",
              "    90% {\n",
              "      border-color: transparent;\n",
              "      border-bottom-color: var(--fill-color);\n",
              "    }\n",
              "  }\n",
              "</style>\n",
              "\n",
              "      <script>\n",
              "        async function quickchart(key) {\n",
              "          const quickchartButtonEl =\n",
              "            document.querySelector('#' + key + ' button');\n",
              "          quickchartButtonEl.disabled = true;  // To prevent multiple clicks.\n",
              "          quickchartButtonEl.classList.add('colab-df-spinner');\n",
              "          try {\n",
              "            const charts = await google.colab.kernel.invokeFunction(\n",
              "                'suggestCharts', [key], {});\n",
              "          } catch (error) {\n",
              "            console.error('Error during call to suggestCharts:', error);\n",
              "          }\n",
              "          quickchartButtonEl.classList.remove('colab-df-spinner');\n",
              "          quickchartButtonEl.classList.add('colab-df-quickchart-complete');\n",
              "        }\n",
              "        (() => {\n",
              "          let quickchartButtonEl =\n",
              "            document.querySelector('#df-1aa39825-5eaa-4ca2-a7fa-9f6e3a104b07 button');\n",
              "          quickchartButtonEl.style.display =\n",
              "            google.colab.kernel.accessAllowed ? 'block' : 'none';\n",
              "        })();\n",
              "      </script>\n",
              "    </div>\n",
              "\n",
              "    </div>\n",
              "  </div>\n"
            ],
            "application/vnd.google.colaboratory.intrinsic+json": {
              "type": "dataframe",
              "summary": "{\n  \"name\": \"sub\",\n  \"rows\": 10,\n  \"fields\": [\n    {\n      \"column\": \"SUBCOUNTY_NAME\",\n      \"properties\": {\n        \"dtype\": \"string\",\n        \"num_unique_values\": 10,\n        \"samples\": [\n          \"RUPA\",\n          \"LORENGECORA\",\n          \"NGOLERIET\"\n        ],\n        \"semantic_type\": \"\",\n        \"description\": \"\"\n      }\n    },\n    {\n      \"column\": \"DISTRICT_NAME\",\n      \"properties\": {\n        \"dtype\": \"category\",\n        \"num_unique_values\": 4,\n        \"samples\": [\n          \"ABIM\",\n          \"NAKAPIRIPIRIT\",\n          \"NAPAK\"\n        ],\n        \"semantic_type\": \"\",\n        \"description\": \"\"\n      }\n    },\n    {\n      \"column\": \"POP\",\n      \"properties\": {\n        \"dtype\": \"number\",\n        \"std\": 10753,\n        \"min\": 2503,\n        \"max\": 41493,\n        \"num_unique_values\": 10,\n        \"samples\": [\n          41493,\n          2503,\n          20790\n        ],\n        \"semantic_type\": \"\",\n        \"description\": \"\"\n      }\n    },\n    {\n      \"column\": \"S_Yield_Ha\",\n      \"properties\": {\n        \"dtype\": \"number\",\n        \"std\": 108.0938480782248,\n        \"min\": 108.1564114,\n        \"max\": 430.5573751,\n        \"num_unique_values\": 10,\n        \"samples\": [\n          114.2709211,\n          184.0811969,\n          134.0840894\n        ],\n        \"semantic_type\": \"\",\n        \"description\": \"\"\n      }\n    },\n    {\n      \"column\": \"M_Yield_Ha\",\n      \"properties\": {\n        \"dtype\": \"number\",\n        \"std\": 241.07427696244702,\n        \"min\": 497.3532824,\n        \"max\": 1248.955812,\n        \"num_unique_values\": 10,\n        \"samples\": [\n          699.3343089,\n          841.8150105,\n          528.6998225\n        ],\n        \"semantic_type\": \"\",\n        \"description\": \"\"\n      }\n    },\n    {\n      \"column\": \"Crop_Area_Ha\",\n      \"properties\": {\n        \"dtype\": \"number\",\n        \"std\": 1738.4729051087425,\n        \"min\": 792.2492731,\n        \"max\": 6471.047334,\n        \"num_unique_values\": 10,\n        \"samples\": [\n          2217.290717,\n          1031.196285,\n          1215.227445\n        ],\n        \"semantic_type\": \"\",\n        \"description\": \"\"\n      }\n    },\n    {\n      \"column\": \"S_Area_Ha\",\n      \"properties\": {\n        \"dtype\": \"number\",\n        \"std\": 1682.7286942599537,\n        \"min\": 185.2834449,\n        \"max\": 5830.549392,\n        \"num_unique_values\": 10,\n        \"samples\": [\n          1989.119508,\n          672.1218865,\n          1145.339875\n        ],\n        \"semantic_type\": \"\",\n        \"description\": \"\"\n      }\n    },\n    {\n      \"column\": \"M_Area_Ha\",\n      \"properties\": {\n        \"dtype\": \"number\",\n        \"std\": 317.0272878606998,\n        \"min\": 68.12400511,\n        \"max\": 959.6711616,\n        \"num_unique_values\": 10,\n        \"samples\": [\n          222.8388813,\n          358.5503345,\n          68.12400511\n        ],\n        \"semantic_type\": \"\",\n        \"description\": \"\"\n      }\n    },\n    {\n      \"column\": \"S_Prod_Tot\",\n      \"properties\": {\n        \"dtype\": \"number\",\n        \"std\": 188117.72984404585,\n        \"min\": 67897.42082,\n        \"max\": 704693.2144,\n        \"num_unique_values\": 10,\n        \"samples\": [\n          227298.5184,\n          123725.0013,\n          153571.8541\n        ],\n        \"semantic_type\": \"\",\n        \"description\": \"\"\n      }\n    },\n    {\n      \"column\": \"M_Prod_Tot\",\n      \"properties\": {\n        \"dtype\": \"number\",\n        \"std\": 398943.4035465295,\n        \"min\": 36017.14941,\n        \"max\": 1198586.875,\n        \"num_unique_values\": 10,\n        \"samples\": [\n          155838.875,\n          301833.0535,\n          36017.14941\n        ],\n        \"semantic_type\": \"\",\n        \"description\": \"\"\n      }\n    }\n  ]\n}"
            }
          },
          "metadata": {},
          "execution_count": 37
        }
      ]
    },
    {
      "cell_type": "markdown",
      "source": [
        "Displayed last 10 rows of district dataset."
      ],
      "metadata": {
        "id": "CK7pzTnvGoUN"
      }
    },
    {
      "cell_type": "markdown",
      "source": [
        "8. Sum of maize yields"
      ],
      "metadata": {
        "id": "SWMr6pYjGvAV"
      }
    },
    {
      "cell_type": "code",
      "source": [
        "print(sub['M_Yield_Ha'].sum())\n",
        "print(dist['M_Yield_Ha'].sum())"
      ],
      "metadata": {
        "colab": {
          "base_uri": "https://localhost:8080/"
        },
        "id": "qw0UGFWjw9wu",
        "outputId": "8cc52bcd-5719-4778-fae3-aee5caf4981a"
      },
      "execution_count": null,
      "outputs": [
        {
          "output_type": "stream",
          "name": "stdout",
          "text": [
            "48893.4967171\n",
            "6903\n"
          ]
        }
      ]
    },
    {
      "cell_type": "markdown",
      "source": [
        "Summed maize yield for both datasets"
      ],
      "metadata": {
        "id": "yC0INBeUGz5B"
      }
    },
    {
      "cell_type": "markdown",
      "source": [
        "9. Sum of sorghum yields"
      ],
      "metadata": {
        "id": "aiARjTdTHAjq"
      }
    },
    {
      "cell_type": "code",
      "source": [
        "print(dist['S_Yield_Ha'].sum())\n",
        "print(sub['S_Yield_Ha'].sum())"
      ],
      "metadata": {
        "colab": {
          "base_uri": "https://localhost:8080/"
        },
        "id": "Q3Vv8Tazx2gb",
        "outputId": "55f12304-5b4e-44b8-99e3-bdda0c822c92"
      },
      "execution_count": null,
      "outputs": [
        {
          "output_type": "stream",
          "name": "stdout",
          "text": [
            "1885\n",
            "14256.601065099998\n"
          ]
        }
      ]
    },
    {
      "cell_type": "markdown",
      "source": [
        "Summed sorghum yield for both datasets"
      ],
      "metadata": {
        "id": "YZgjH7Z5HCsa"
      }
    },
    {
      "cell_type": "markdown",
      "source": [
        "10. Hypothesis test on sorghum vs. maize yields"
      ],
      "metadata": {
        "id": "hpFog2GOHqp5"
      }
    },
    {
      "cell_type": "code",
      "source": [
        "import pandas as pd\n",
        "from scipy import stats\n",
        "\n",
        "df = pd.read_csv('/content/Uganda_Karamoja_Subcounty_Crop_Yield_Population.csv')\n",
        "\n",
        "sorghum = df[\"S_Yield_Ha\"].dropna()\n",
        "maize = df[\"M_Yield_Ha\"].dropna()\n",
        "\n",
        "t_stat, p_val = stats.ttest_ind(sorghum, maize, equal_var=False)\n",
        "\n",
        "print(\"t-statistic:\", t_stat)\n",
        "print(\"p-value:\", p_val)\n",
        "\n",
        "alpha = 0.05\n",
        "if p_val < alpha:\n",
        "    print(\"Reject H0: Sorghum and maize yields are significantly different.\")\n",
        "else:\n",
        "    print(\"Fail to reject H0: No significant difference in yields.\")"
      ],
      "metadata": {
        "colab": {
          "base_uri": "https://localhost:8080/"
        },
        "id": "Z6xVL5kMuzP0",
        "outputId": "bdba96ea-6f3d-491c-a234-24a2d8ebb42d"
      },
      "execution_count": null,
      "outputs": [
        {
          "output_type": "stream",
          "name": "stdout",
          "text": [
            "t-statistic: -14.011852622032855\n",
            "p-value: 2.9515543187263105e-21\n",
            "Reject H0: Sorghum and maize yields are significantly different.\n"
          ]
        }
      ]
    },
    {
      "cell_type": "markdown",
      "source": [
        "A statistical test was run to compare the average yield per hectare of sorghum and maize.  \n",
        "The test checks if the difference in yields between sorghum and maize is statistically significant or just due to random chance. This helps determine whether one crop consistently outperforms the other."
      ],
      "metadata": {
        "id": "B4zxVoF2Hxp-"
      }
    },
    {
      "cell_type": "markdown",
      "source": [
        "11. Linear regression for maize production"
      ],
      "metadata": {
        "id": "oh1sWxkDIKmC"
      }
    },
    {
      "cell_type": "code",
      "source": [
        "import pandas as pd\n",
        "from sklearn.linear_model import LinearRegression\n",
        "import matplotlib.pyplot as plt\n",
        "\n",
        "df = pd.read_csv(\"Uganda_Karamoja_Subcounty_Crop_Yield_Population.csv\")\n",
        "\n",
        "X = df[[\"M_Area_Ha\"]]\n",
        "y = df[\"M_Prod_Tot\"]\n",
        "\n",
        "model = LinearRegression()\n",
        "model.fit(X, y)\n",
        "\n",
        "df[\"Predicted_Production\"] = model.predict(X)\n",
        "\n",
        "plt.figure(figsize=(6,5))\n",
        "plt.scatter(X, y, color=\"blue\", label=\"Actual\")\n",
        "plt.plot(X, df[\"Predicted_Production\"], color=\"red\", linewidth=2, label=\"Prediction\")\n",
        "plt.xlabel(\"Area Planted (Ha)\")\n",
        "plt.ylabel(\"Total Production (kg)\")\n",
        "plt.title(\"X-Factor: Predicting Maize Production from Area Planted\")\n",
        "plt.legend()\n",
        "plt.show()\n",
        "\n",
        "print(\"Slope (kg per Ha):\", model.coef_[0])\n",
        "print(\"Intercept:\", model.intercept_)\n",
        "print(\"R² Score:\", model.score(X, y))"
      ],
      "metadata": {
        "colab": {
          "base_uri": "https://localhost:8080/",
          "height": 554
        },
        "id": "-QTpIZHuRpBZ",
        "outputId": "6cecc4dd-f234-4c9c-ee2a-6d1523fdcb08"
      },
      "execution_count": null,
      "outputs": [
        {
          "output_type": "display_data",
          "data": {
            "text/plain": [
              "<Figure size 600x500 with 1 Axes>"
            ],
            "image/png": "[encoded data removed]"
          },
          "metadata": {}
        },
        {
          "output_type": "stream",
          "name": "stdout",
          "text": [
            "Slope (kg per Ha): 1055.3242171266625\n",
            "Intercept: -15897.999882884207\n",
            "R² Score: 0.9262980197825493\n"
          ]
        }
      ]
    },
    {
      "cell_type": "markdown",
      "source": [
        "A simple linear regression model was built to predict maize production based on the area planted .\n",
        "This analysis shows how strongly the area planted influences total maize production. The regression slope indicates how many kilograms of maize are produced per additional hectare, while the R² score measures how well area planted explains production."
      ],
      "metadata": {
        "id": "nxobNlhiIOyM"
      }
    },
    {
      "cell_type": "markdown",
      "source": [
        "12. Distribution of sorghum yields"
      ],
      "metadata": {
        "id": "KqXPGRjIKPrQ"
      }
    },
    {
      "cell_type": "code",
      "source": [
        "from matplotlib import pyplot as plt\n",
        "sub['S_Yield_Ha'].plot(kind='hist', bins=20, title='S_Yield_Ha')\n",
        "plt.gca().spines[['top', 'right',]].set_visible(False)"
      ],
      "metadata": {
        "colab": {
          "base_uri": "https://localhost:8080/",
          "height": 452
        },
        "id": "5UDASka7Ehoy",
        "outputId": "e0bb219c-f5f0-426a-ed38-f04c6b2fc3fe"
      },
      "execution_count": null,
      "outputs": [
        {
          "output_type": "display_data",
          "data": {
            "text/plain": [
              "<Figure size 640x480 with 1 Axes>"
            ],
            "image/png": "[encoded data removed]"
          },
          "metadata": {}
        }
      ]
    },
    {
      "cell_type": "markdown",
      "source": [
        "A histogram of sorghum yields per hectare was created with 20 bins, showing how the values are spread across subcounties.  \n",
        "Plotting the distribution helps reveal patterns such as whether most subcounties have low, medium, or high yields, and whether there are any outliers. This makes it easier to understand the variability of sorghum performance.  "
      ],
      "metadata": {
        "id": "FdRR6J9OKYPA"
      }
    },
    {
      "cell_type": "markdown",
      "source": [
        "13. Subcounty counts per district"
      ],
      "metadata": {
        "id": "DFq5lPHjKntM"
      }
    },
    {
      "cell_type": "code",
      "source": [
        "from matplotlib import pyplot as plt\n",
        "import seaborn as sns\n",
        "sub.groupby('DISTRICT_NAME').size().plot(kind='barh', color=sns.palettes.mpl_palette('Dark2'))\n",
        "plt.gca().spines[['top', 'right',]].set_visible(False)"
      ],
      "metadata": {
        "colab": {
          "base_uri": "https://localhost:8080/",
          "height": 430
        },
        "id": "DDEMPdPJEzCQ",
        "outputId": "30958c21-eaa2-40d3-f5a0-eab108ee1be7"
      },
      "execution_count": null,
      "outputs": [
        {
          "output_type": "display_data",
          "data": {
            "text/plain": [
              "<Figure size 640x480 with 1 Axes>"
            ],
            "image/png": "[encoded data removed]"
          },
          "metadata": {}
        }
      ]
    },
    {
      "cell_type": "markdown",
      "source": [
        "A horizontal bar chart was created to show how many subcounties belong to each district.  \n",
        "This visualization highlights the variation in administrative structure across districts. Knowing how many subcounties fall within each district provides important context for interpreting crop yield and population data at different levels.  \n"
      ],
      "metadata": {
        "id": "9eoj1e4UKxlQ"
      }
    },
    {
      "cell_type": "markdown",
      "source": [
        "14. Distribution of sorghum yields by district"
      ],
      "metadata": {
        "id": "tYJ-2DicL2lT"
      }
    },
    {
      "source": [
        "from matplotlib import pyplot as plt\n",
        "import seaborn as sns\n",
        "\n",
        "figsize = (12, 1.2 * len(sub['DISTRICT_NAME'].unique()))\n",
        "plt.figure(figsize=figsize)\n",
        "\n",
        "sns.violinplot(\n",
        "    data=sub,\n",
        "    x='S_Yield_Ha',\n",
        "    y='DISTRICT_NAME',\n",
        "    inner='stick',\n",
        "    palette='Dark2',\n",
        "    hue='DISTRICT_NAME',   # add this\n",
        "    legend=False           # stop duplicate legend\n",
        ")\n",
        "\n",
        "sns.despine(top=True, right=True, bottom=True, left=True)"
      ],
      "cell_type": "code",
      "execution_count": 44,
      "outputs": [
        {
          "output_type": "display_data",
          "data": {
            "text/plain": [
              "<Figure size 1200x840 with 1 Axes>"
            ],
            "image/png": "[encoded data removed]"
          },
          "metadata": {}
        }
      ],
      "metadata": {
        "colab": {
          "base_uri": "https://localhost:8080/",
          "height": 582
        },
        "id": "Jn1A0yjFLZZm",
        "outputId": "d9d1b746-b916-4b46-8632-1dabd563dc0d"
      }
    },
    {
      "cell_type": "markdown",
      "source": [
        "A violin plot was created to show how sorghum yield per hectare is distributed within each district.\n",
        "This visualization makes it easy to compare yield patterns across districts. It highlights not just averages but also the variability within each district, showing where yields are more consistent versus where they fluctuate widely.  \n"
      ],
      "metadata": {
        "id": "rwqU1BaqMNzx"
      }
    },
    {
      "cell_type": "markdown",
      "source": [
        "15. Relationship between sorghum and maize yields"
      ],
      "metadata": {
        "id": "SOQUz7vINwwU"
      }
    },
    {
      "source": [
        "from matplotlib import pyplot as plt\n",
        "sub.plot(kind='scatter', x='S_Yield_Ha', y='M_Yield_Ha', s=32, alpha=.8)\n",
        "plt.gca().spines[['top', 'right',]].set_visible(False)\n",
        "corr = sub[\"S_Yield_Ha\"].corr(sub[\"M_Yield_Ha\"])\n",
        "print(\"Correlation:\", corr)"
      ],
      "cell_type": "code",
      "execution_count": 46,
      "outputs": [
        {
          "output_type": "stream",
          "name": "stdout",
          "text": [
            "Correlation: 0.6244943671192505\n"
          ]
        },
        {
          "output_type": "display_data",
          "data": {
            "text/plain": [
              "<Figure size 640x480 with 1 Axes>"
            ],
            "image/png": "[encoded data removed]"
          },
          "metadata": {}
        }
      ],
      "metadata": {
        "colab": {
          "base_uri": "https://localhost:8080/",
          "height": 467
        },
        "id": "M0wPUQ8yLR4p",
        "outputId": "c9b2c358-9dde-47ee-8108-9ed72bca655a"
      }
    },
    {
      "cell_type": "markdown",
      "source": [
        "A scatter plot was created with sorghum yield per hectare  on the x-axis and maize yield per hectare on the y-axis. Each point represents a subcounty.  \n",
        "The scatter plot helps reveal that subcounties with higher sorghum yields also tend to have higher maize yields.\n"
      ],
      "metadata": {
        "id": "Nv5onWf1N1oU"
      }
    },
    {
      "cell_type": "markdown",
      "source": [
        "16. Correlation between population and sorghum yields"
      ],
      "metadata": {
        "id": "jI8Gy2DRPDNh"
      }
    },
    {
      "source": [
        "from matplotlib import pyplot as plt\n",
        "sub.plot(kind='scatter', x='POP', y='S_Yield_Ha', s=32, alpha=.8)\n",
        "plt.gca().spines[['top', 'right',]].set_visible(False)\n",
        "corr = sub[\"POP\"].corr(sub[\"S_Yield_Ha\"])\n",
        "print(\"Correlation:\", corr)"
      ],
      "cell_type": "code",
      "execution_count": 47,
      "outputs": [
        {
          "output_type": "stream",
          "name": "stdout",
          "text": [
            "Correlation: -0.08138490275184114\n"
          ]
        },
        {
          "output_type": "display_data",
          "data": {
            "text/plain": [
              "<Figure size 640x480 with 1 Axes>"
            ],
            "image/png": "[encoded data removed]"
          },
          "metadata": {}
        }
      ],
      "metadata": {
        "colab": {
          "base_uri": "https://localhost:8080/",
          "height": 466
        },
        "id": "5gvBsYqNLIGM",
        "outputId": "f6aec4f7-4079-4d74-c7cb-d1c698990fbb"
      }
    },
    {
      "cell_type": "markdown",
      "source": [
        "A scatter plot was created with population on the x-axis and sorghum yield per hectare on the y-axis. The correlation coefficient between the two variables was also calculated.  \n",
        "This step checks whether subcounties with larger populations tend to have higher or lower sorghum yields. The correlation was weak and slightly negative (–0.08), meaning population size does not strongly explain differences in sorghum yields.  "
      ],
      "metadata": {
        "id": "cHnbCK-YPHGc"
      }
    },
    {
      "cell_type": "markdown",
      "source": [
        "17. Exporting cleaned datasets"
      ],
      "metadata": {
        "id": "dTGWh747Pct4"
      }
    },
    {
      "cell_type": "code",
      "source": [
        "sub.to_excel(\"subcounties_clean.xlsx\", index=False)\n",
        "dist.to_excel(\"districts_clean.xlsx\", index=False)"
      ],
      "metadata": {
        "id": "-KzcdyeoxBSl"
      },
      "execution_count": null,
      "outputs": []
    },
    {
      "cell_type": "markdown",
      "source": [
        "The cleaned subcounty and district DataFrames were saved into separate Excel files.  \n",
        "Exporting the processed data makes it easy to use in external tools like Tableau for visualization"
      ],
      "metadata": {
        "id": "qb0nWBe1PlbZ"
      }
    },
    {
      "cell_type": "markdown",
      "source": [
        "18. Downloading cleaned datasets"
      ],
      "metadata": {
        "id": "NhWpJRvSP2FV"
      }
    },
    {
      "cell_type": "code",
      "source": [
        "from google.colab import files\n",
        "\n",
        "files.download(\"subcounties_clean.xlsx\")\n",
        "files.download(\"districts_clean.xlsx\")"
      ],
      "metadata": {
        "colab": {
          "base_uri": "https://localhost:8080/",
          "height": 17
        },
        "id": "ONAIsvTbxLwL",
        "outputId": "67390a39-1c67-4b9a-e9f7-e363fc78a4b6"
      },
      "execution_count": null,
      "outputs": [
        {
          "output_type": "display_data",
          "data": {
            "text/plain": [
              "<IPython.core.display.Javascript object>"
            ],
            "application/javascript": [
              "\n",
              "    async function download(id, filename, size) {\n",
              "      if (!google.colab.kernel.accessAllowed) {\n",
              "        return;\n",
              "      }\n",
              "      const div = document.createElement('div');\n",
              "      const label = document.createElement('label');\n",
              "      label.textContent = `Downloading \"${filename}\": `;\n",
              "      div.appendChild(label);\n",
              "      const progress = document.createElement('progress');\n",
              "      progress.max = size;\n",
              "      div.appendChild(progress);\n",
              "      document.body.appendChild(div);\n",
              "\n",
              "      const buffers = [];\n",
              "      let downloaded = 0;\n",
              "\n",
              "      const channel = await google.colab.kernel.comms.open(id);\n",
              "      // Send a message to notify the kernel that we're ready.\n",
              "      channel.send({})\n",
              "\n",
              "      for await (const message of channel.messages) {\n",
              "        // Send a message to notify the kernel that we're ready.\n",
              "        channel.send({})\n",
              "        if (message.buffers) {\n",
              "          for (const buffer of message.buffers) {\n",
              "            buffers.push(buffer);\n",
              "            downloaded += buffer.byteLength;\n",
              "            progress.value = downloaded;\n",
              "          }\n",
              "        }\n",
              "      }\n",
              "      const blob = new Blob(buffers, {type: 'application/binary'});\n",
              "      const a = document.createElement('a');\n",
              "      a.href = window.URL.createObjectURL(blob);\n",
              "      a.download = filename;\n",
              "      div.appendChild(a);\n",
              "      a.click();\n",
              "      div.remove();\n",
              "    }\n",
              "  "
            ]
          },
          "metadata": {}
        },
        {
          "output_type": "display_data",
          "data": {
            "text/plain": [
              "<IPython.core.display.Javascript object>"
            ],
            "application/javascript": [
              "download(\"download_83c2df92-9b0e-4b80-a94d-acf21f58d715\", \"subcounties_clean.xlsx\", 10100)"
            ]
          },
          "metadata": {}
        },
        {
          "output_type": "display_data",
          "data": {
            "text/plain": [
              "<IPython.core.display.Javascript object>"
            ],
            "application/javascript": [
              "\n",
              "    async function download(id, filename, size) {\n",
              "      if (!google.colab.kernel.accessAllowed) {\n",
              "        return;\n",
              "      }\n",
              "      const div = document.createElement('div');\n",
              "      const label = document.createElement('label');\n",
              "      label.textContent = `Downloading \"${filename}\": `;\n",
              "      div.appendChild(label);\n",
              "      const progress = document.createElement('progress');\n",
              "      progress.max = size;\n",
              "      div.appendChild(progress);\n",
              "      document.body.appendChild(div);\n",
              "\n",
              "      const buffers = [];\n",
              "      let downloaded = 0;\n",
              "\n",
              "      const channel = await google.colab.kernel.comms.open(id);\n",
              "      // Send a message to notify the kernel that we're ready.\n",
              "      channel.send({})\n",
              "\n",
              "      for await (const message of channel.messages) {\n",
              "        // Send a message to notify the kernel that we're ready.\n",
              "        channel.send({})\n",
              "        if (message.buffers) {\n",
              "          for (const buffer of message.buffers) {\n",
              "            buffers.push(buffer);\n",
              "            downloaded += buffer.byteLength;\n",
              "            progress.value = downloaded;\n",
              "          }\n",
              "        }\n",
              "      }\n",
              "      const blob = new Blob(buffers, {type: 'application/binary'});\n",
              "      const a = document.createElement('a');\n",
              "      a.href = window.URL.createObjectURL(blob);\n",
              "      a.download = filename;\n",
              "      div.appendChild(a);\n",
              "      a.click();\n",
              "      div.remove();\n",
              "    }\n",
              "  "
            ]
          },
          "metadata": {}
        },
        {
          "output_type": "display_data",
          "data": {
            "text/plain": [
              "<IPython.core.display.Javascript object>"
            ],
            "application/javascript": [
              "download(\"download_13e35f47-b1b6-4bb3-937e-a80f666ea40a\", \"districts_clean.xlsx\", 5588)"
            ]
          },
          "metadata": {}
        }
      ]
    },
    {
      "cell_type": "markdown",
      "source": [
        "The cleaned subcounty and district Excel files were downloaded from Google Colab to the local computer using files.download.  \n",
        "Downloading allows the cleaned datasets to be shared and imported into external software for further analysis and visualization.  "
      ],
      "metadata": {
        "id": "houhKgnsP5St"
      }
    }
  ]
}